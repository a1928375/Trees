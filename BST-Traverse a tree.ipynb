{
 "cells": [
  {
   "cell_type": "code",
   "execution_count": 12,
   "metadata": {},
   "outputs": [
    {
     "name": "stdout",
     "output_type": "stream",
     "text": [
      "1\n",
      "3\n",
      "5\n",
      "6\n",
      "8\n",
      "9\n",
      "None\n"
     ]
    }
   ],
   "source": [
    "def traverse(tree):\n",
    "    \n",
    "    if tree == None:\n",
    "        \n",
    "        return None\n",
    "    \n",
    "    else:\n",
    "        \n",
    "        leftchild = tree[0]\n",
    "        root = tree[1]\n",
    "        rightchild = tree[2]\n",
    "        \n",
    "        traverse(leftchild)\n",
    "        print(root)\n",
    "        traverse(rightchild)\n",
    "        \n",
    "print (traverse(((None, 1, (None, 3, None)), 5, (None, 6, (None, 8, (None, 9, None))))))"
   ]
  }
 ],
 "metadata": {
  "kernelspec": {
   "display_name": "Python 3",
   "language": "python",
   "name": "python3"
  },
  "language_info": {
   "codemirror_mode": {
    "name": "ipython",
    "version": 3
   },
   "file_extension": ".py",
   "mimetype": "text/x-python",
   "name": "python",
   "nbconvert_exporter": "python",
   "pygments_lexer": "ipython3",
   "version": "3.7.3"
  }
 },
 "nbformat": 4,
 "nbformat_minor": 2
}
