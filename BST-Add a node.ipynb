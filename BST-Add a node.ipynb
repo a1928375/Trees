{
 "cells": [
  {
   "cell_type": "code",
   "execution_count": 4,
   "metadata": {},
   "outputs": [
    {
     "name": "stdout",
     "output_type": "stream",
     "text": [
      "(((None, 1, None), 3, None), 5, (None, 6, None))\n",
      "((None, 3, None), 5, (None, 6, (None, 8, None)))\n"
     ]
    }
   ],
   "source": [
    "def add(tree,element):\n",
    "    \n",
    "    if tree == None:\n",
    "        \n",
    "        return (None, element, None)\n",
    "    \n",
    "    else:\n",
    "        \n",
    "        leftchild = tree[0]\n",
    "        root = tree[1]\n",
    "        rightchild = tree[2]\n",
    "        \n",
    "        if element > root:\n",
    "            \n",
    "            newrightchild = add(rightchild, element)\n",
    "            \n",
    "            return (leftchild, root, newrightchild)\n",
    "        else:\n",
    "            \n",
    "            newleftchild = add(leftchild, element)\n",
    "            \n",
    "            return (newleftchild, root, rightchild)\n",
    "        \n",
    "\n",
    "print(add(((None,3,None),5,(None,6,None)),1))\n",
    "print(add(((None,3,None),5,(None,6,None)),8))\n"
   ]
  }
 ],
 "metadata": {
  "kernelspec": {
   "display_name": "Python 3",
   "language": "python",
   "name": "python3"
  },
  "language_info": {
   "codemirror_mode": {
    "name": "ipython",
    "version": 3
   },
   "file_extension": ".py",
   "mimetype": "text/x-python",
   "name": "python",
   "nbconvert_exporter": "python",
   "pygments_lexer": "ipython3",
   "version": "3.7.3"
  }
 },
 "nbformat": 4,
 "nbformat_minor": 2
}
