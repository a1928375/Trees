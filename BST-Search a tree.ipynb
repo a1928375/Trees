{
 "cells": [
  {
   "cell_type": "code",
   "execution_count": 6,
   "metadata": {},
   "outputs": [
    {
     "name": "stdout",
     "output_type": "stream",
     "text": [
      "True\n"
     ]
    }
   ],
   "source": [
    "def search(tree, element):\n",
    "    \n",
    "    if tree == None and element != None:\n",
    "        \n",
    "        return False\n",
    "    \n",
    "    else:\n",
    "        \n",
    "        leftchild = tree[0]\n",
    "        root = tree[1]\n",
    "        rightchild = tree[2]\n",
    "        \n",
    "        if element == root:\n",
    "            \n",
    "            return True\n",
    "        \n",
    "        elif element < root:\n",
    "            \n",
    "            return search(leftchild, element)\n",
    "        \n",
    "        else:\n",
    "            \n",
    "            return search(rightchild, element)\n",
    "        \n",
    "print (search(((None, 1, (None, 3, None)), 5, (None, 6, (None, 8, (None, 9, None)))), 3))"
   ]
  }
 ],
 "metadata": {
  "kernelspec": {
   "display_name": "Python 3",
   "language": "python",
   "name": "python3"
  },
  "language_info": {
   "codemirror_mode": {
    "name": "ipython",
    "version": 3
   },
   "file_extension": ".py",
   "mimetype": "text/x-python",
   "name": "python",
   "nbconvert_exporter": "python",
   "pygments_lexer": "ipython3",
   "version": "3.7.3"
  }
 },
 "nbformat": 4,
 "nbformat_minor": 2
}
